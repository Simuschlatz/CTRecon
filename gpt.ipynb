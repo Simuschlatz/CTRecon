{
 "cells": [
  {
   "cell_type": "code",
   "execution_count": 8,
   "metadata": {},
   "outputs": [
    {
     "name": "stdout",
     "output_type": "stream",
     "text": [
      "mps\n",
      "step 0: train loss 4.4800, val loss 4.4803\n",
      "step 300: train loss 2.5399, val loss 2.5577\n",
      "step 600: train loss 2.5167, val loss 2.5340\n",
      "step 900: train loss 2.4968, val loss 2.5147\n",
      "\n",
      "Foasth pr!\n",
      "SKixchaPENGRYIOLOMUKEE&exby:\n",
      "QUS:\n",
      "3 COLineg agntheprdrrknteckeyr PHENThe?\n",
      "TyONGrsothy.\n",
      "DLOPELABUSimppry PS:\n",
      "MANIF\n",
      "Shbur$erwixikns\n",
      "Fokncaknd-htNRLYoun, KGLIOMOMu gwirexthe.\n",
      "AUFOMETHAnthcus;\n",
      "NDUFr\n",
      "TEKYCONTRDURDUKIEUjerks?\n",
      "STh!\n",
      "Tus\n",
      "LUSA'st BEFoghy whe f,\n",
      "SThogiznk&ofachang!\n",
      "&CETDWler'dsuqughold ark'dz\n",
      "\n",
      "PESThe\n",
      "TJUCENCTINGBundmzeyby hindyongmy!\n",
      "HENRRVof,\n",
      "CI'Thy.\n",
      "MARBRUCUMy,---GHIOfourknghm goutheppmplkedextherex'digackefithrkn'GENUS:\n",
      "Y laghindKINGRBedouerdjurd.\n",
      "JKEMjurKENGHEOKIFe.\n",
      "IINGS:\n",
      "Y\n"
     ]
    }
   ],
   "source": [
    "import torch\n",
    "import torch.nn as nn\n",
    "from torch.nn import functional as F\n",
    "# --- Hyperparams ---\n",
    "batch_size = 32 # how many independent sequences will we process in parallel?\n",
    "block_size = 8 # what is the maximum context length for predictions?\n",
    "max_iters = 1000\n",
    "eval_interval = 300  \n",
    "learning_rate = 1e-2\n",
    "device = torch.device('mps') or ('cuda' if torch.cuda.is_available() else 'cpu')\n",
    "eval_iters = 200\n",
    "n_embd = 32\n",
    "print(device)\n",
    "# -----------------\n",
    "\n",
    "torch.manual_seed(1337)\n",
    "\n",
    "# !wget https://raw.githubusercontent.com/karpathy/char-rnn/master/data/tinyshakespeare/input.txt\n",
    "with open('input.txt', 'r', encoding='utf-8') as f:\n",
    "  text = f.read()\n",
    "\n",
    "\n",
    "chars = sorted(list(set(text)))\n",
    "vocab_size = len(chars)\n",
    "\n",
    "# \"Tokenizer\". Simple; pros: small vocab size, cons: long sequences\n",
    "stoi = {ch: i for i, ch in enumerate(chars)}\n",
    "itos = {i: ch for i, ch in enumerate(chars)}\n",
    "encode = lambda s: [stoi[ch] for ch in s]\n",
    "decode = lambda l: [itos[i] for i in l]\n",
    "encoded = encode(\"HALLO\")\n",
    "encoded, decode(encoded)\n",
    "\n",
    "torch.manual_seed(1337)\n",
    "\n",
    "data = torch.tensor(encode(text), dtype=torch.long)\n",
    "n = int(.9*len(data))\n",
    "train_data = data[:n]\n",
    "val_data = data[n:]\n",
    "\n",
    "\n",
    "def get_batch(split=\"train\"):\n",
    "  data = train_data if split == \"train\" else val_data\n",
    "  ix = torch.randint(len(data) - block_size, (batch_size,))\n",
    "  x = torch.stack([data[i:i+block_size] for i in ix])\n",
    "  y = torch.stack([data[i+1:i+block_size+1] for i in ix])\n",
    "  x, y, = x.to(device), y.to(device)\n",
    "  return x, y\n",
    "\n",
    "@torch.no_grad() \n",
    "def estimate_loss():\n",
    "    out = {}\n",
    "    model.eval()\n",
    "    for split in ['train', 'val']:\n",
    "        losses = torch.zeros(eval_iters)\n",
    "        for k in range(eval_iters):\n",
    "            X, Y = get_batch(split)\n",
    "            logits, loss = model(X, Y)\n",
    "            losses[k] = loss.item()\n",
    "        out[split] = losses.mean()\n",
    "    model.train()\n",
    "    return out\n",
    "\n",
    "class Bigram(nn.Module):\n",
    "  def __init__(self):\n",
    "    super().__init__()\n",
    "    self.token_embedding_table = nn.Embedding(vocab_size, n_embd)\n",
    "    self.position_embedding_table = nn.Embedding(block_size, n_embd)\n",
    "    self.lm_head = nn.Linear(n_embd, vocab_size)\n",
    "\n",
    "  def forward(self, idx, targets=None):\n",
    "    B, T = idx.shape\n",
    "\n",
    "    tok_embd = self.token_embedding_table(idx) # (B, T, C)\n",
    "    pos_embd = self.position_embedding_table(torch.arange(T, device=device)) # (T, C)\n",
    "    x = tok_embd + pos_embd\n",
    "    logits = self.lm_head(x)\n",
    "    # print(logits.shape)\n",
    "    # Reshape for corssentropy\n",
    "\n",
    "    if targets is None:\n",
    "      loss = None\n",
    "    else:\n",
    "      B, T, C = logits.shape\n",
    "      logits = logits.view(B*T, C )\n",
    "      targets = targets.view (B*T)\n",
    "      # print(logits.shape, targets.shape)\n",
    "      loss = F.cross_entropy(logits, targets)\n",
    "\n",
    "    return logits, loss\n",
    "\n",
    "  def generate(self, idx, max_new_tokens):\n",
    "    for _ in range(max_new_tokens):\n",
    "      logits, loss = self(idx)\n",
    "      logits = logits[:, -1, :] # (B, C)\n",
    "      probs = F.softmax(logits, dim=1)\n",
    "      idx_next = torch.multinomial(probs, num_samples=1) # (B, 1)\n",
    "      idx = torch.cat((idx, idx_next), dim=1) # (B, T+1)\n",
    "    return idx\n",
    "\n",
    "model = Bigram()\n",
    "model = model.to(device)\n",
    "\n",
    "optim = torch.optim.AdamW(model.parameters(), lr=learning_rate)\n",
    "\n",
    "for step in range(max_iters):\n",
    "    xb, yb = get_batch()\n",
    "\n",
    "    # Evaluate Loss\n",
    "    logits, loss = model(xb, yb)\n",
    "    if step % eval_interval == 0:\n",
    "        losses = estimate_loss()\n",
    "        print(f\"step {step}: train loss {losses['train']:.4f}, val loss {losses['val']:.4f}\")\n",
    "    optim.zero_grad(set_to_none=True)\n",
    "    loss.backward()\n",
    "    optim.step()\n",
    "\n",
    "# \"\".join([decode(batch) for batch in m.generate(torch.zeros((1, 1), dtype=torch.long), 100).tolist()][0])\n",
    "context = torch.zeros((2, 1), dtype=torch.long, device=device)\n",
    "print(''.join(decode(model.generate(context, 500)[0].tolist())))\n"
   ]
  },
  {
   "cell_type": "code",
   "execution_count": 26,
   "metadata": {},
   "outputs": [
    {
     "data": {
      "text/plain": [
       "torch.Size([4, 8, 32])"
      ]
     },
     "execution_count": 26,
     "metadata": {},
     "output_type": "execute_result"
    }
   ],
   "source": [
    "torch.manual_seed(1337)\n",
    "B, T, C = 4, 8, 32\n",
    "x = torch.randn(B, T, C)\n",
    "x.shape"
   ]
  },
  {
   "cell_type": "code",
   "execution_count": 27,
   "metadata": {},
   "outputs": [],
   "source": [
    "xbow = torch.zeros((B, T, C))\n",
    "for b in range(B):\n",
    "  for t in range(T):\n",
    "    prev = x[b, :t+1]\n",
    "    xbow[b, t] = torch.mean(prev, 0)\n",
    "    # print(prev, torch.mean(prev, 0))"
   ]
  },
  {
   "cell_type": "code",
   "execution_count": 28,
   "metadata": {},
   "outputs": [
    {
     "name": "stdout",
     "output_type": "stream",
     "text": [
      "torch.Size([4, 8, 32]) torch.Size([4, 8, 32])\n"
     ]
    },
    {
     "data": {
      "text/plain": [
       "True"
      ]
     },
     "execution_count": 28,
     "metadata": {},
     "output_type": "execute_result"
    }
   ],
   "source": [
    "wbow = torch.zeros((B, T, C))\n",
    "w = torch.tril(torch.ones(T, T))\n",
    "w = w / w.sum(1, keepdim=True)\n",
    "\n",
    "# for b in range(B):\n",
    "#   wbow[b] = w @ x[b] # (T, T) @ (T, C) --> (T, C)\n",
    "wbow = w @ x\n",
    "print(wbow.shape, xbow.shape)\n",
    "torch.allclose(xbow, wbow)"
   ]
  },
  {
   "cell_type": "code",
   "execution_count": 29,
   "metadata": {},
   "outputs": [
    {
     "data": {
      "text/plain": [
       "True"
      ]
     },
     "execution_count": 29,
     "metadata": {},
     "output_type": "execute_result"
    }
   ],
   "source": [
    "# One more step\n",
    "tril = torch.tril(torch.ones((T, T)))\n",
    "weights = torch.zeros((T, T)).masked_fill(tril == 0, float('-inf'))\n",
    "weights = F.softmax(weights, dim=1) # Each row sums to one\n",
    "xbow3 = weights @ x\n",
    "torch.allclose(xbow, xbow3)"
   ]
  },
  {
   "cell_type": "code",
   "execution_count": 30,
   "metadata": {},
   "outputs": [
    {
     "data": {
      "text/plain": [
       "torch.Size([4, 8, 32])"
      ]
     },
     "execution_count": 30,
     "metadata": {},
     "output_type": "execute_result"
    }
   ],
   "source": [
    "# a single head\n",
    "head_size = 16 # Embedding dimension in head after linear layer\n",
    "key = nn.Linear(C, head_size, bias=False)\n",
    "query = nn.Linear(C, head_size, bias=False)\n",
    "value = nn.Linear(C, head_size, bias=False)\n",
    "k = key(x) # (B, T, head_size) \n",
    "q = query(x)\n",
    "v = value(x)\n",
    "# Swap T and head_size dim --> (B, T, hs) @ (B, hs, T) --> (B, T, T)\n",
    "weights = q @ k.transpose(-2, -1) \n",
    "tril = torch.tril(torch.ones((T, T)))\n",
    "weights = weights.masked_fill(tril == 0, float('-inf'))\n",
    "weights = F.softmax(weights, dim=1)\n",
    "out = weights @ x\n",
    "out.shape"
   ]
  },
  {
   "cell_type": "code",
   "execution_count": 31,
   "metadata": {},
   "outputs": [
    {
     "data": {
      "text/plain": [
       "tensor([[[ 4.4919e-03, -1.7391e-03, -8.9361e-03,  ..., -1.9920e-02,\n",
       "           3.7859e-02,  6.2334e-02],\n",
       "         [-5.1158e-03, -2.6541e-03,  7.3581e-03,  ...,  9.8471e-03,\n",
       "           2.2559e-02,  9.2822e-03],\n",
       "         [-2.0666e-01,  1.4131e-01, -1.7812e-02,  ..., -1.2945e-01,\n",
       "          -1.4731e-01,  2.3609e-02],\n",
       "         ...,\n",
       "         [-2.2176e+00,  1.1948e+00,  1.4382e+00,  ...,  2.3454e-01,\n",
       "           1.9469e+00, -6.7925e-01],\n",
       "         [-1.4471e+00, -2.2265e-01,  5.8033e-01,  ...,  2.0316e+00,\n",
       "           1.2952e+00,  1.4777e+00],\n",
       "         [-1.5152e+00, -1.0873e+00,  1.3338e+00,  ..., -1.2010e+00,\n",
       "          -1.1554e+00,  2.0142e-01]],\n",
       "\n",
       "        [[ 2.0221e-02, -4.8391e-02, -3.6381e-02,  ...,  2.2690e-03,\n",
       "          -2.9152e-02, -1.1405e-01],\n",
       "         [ 2.7081e-03,  3.3087e-02, -5.0248e-02,  ...,  2.9653e-02,\n",
       "          -4.5851e-02,  3.8357e-02],\n",
       "         [ 5.7537e-01, -9.4794e-02,  6.3360e-02,  ..., -1.4155e-01,\n",
       "           2.0953e-01, -3.1606e-01],\n",
       "         ...,\n",
       "         [ 1.7553e-01,  3.2236e-01,  1.9963e-01,  ...,  1.7142e-01,\n",
       "          -1.5110e-01,  1.3136e-01],\n",
       "         [ 4.3604e-01,  1.2165e+00, -1.2144e+00,  ..., -1.9875e-01,\n",
       "           8.9333e-01,  1.6926e+00],\n",
       "         [ 1.3321e+00, -4.8903e-01, -1.4752e+00,  ..., -4.0470e-02,\n",
       "           2.6362e-03, -9.8423e-01]],\n",
       "\n",
       "        [[-2.5425e-02,  7.6806e-02,  1.2282e-02,  ...,  4.2077e-02,\n",
       "           3.6276e-02,  7.0734e-03],\n",
       "         [-6.2393e-02,  1.0117e-01,  2.1085e-02,  ...,  1.2845e-01,\n",
       "           1.2666e-01, -3.6816e-02],\n",
       "         [-1.3548e-01,  7.3604e-02, -8.8165e-02,  ...,  1.6224e-01,\n",
       "           9.6621e-02, -7.5482e-02],\n",
       "         ...,\n",
       "         [-4.9813e-01, -4.5081e-02,  1.7049e-01,  ...,  6.3714e-02,\n",
       "          -2.1727e-01, -3.6147e-02],\n",
       "         [ 6.0951e-01, -5.0699e-01,  1.4457e+00,  ..., -1.8567e-01,\n",
       "          -1.0682e+00,  4.1684e-01],\n",
       "         [-5.3351e-02,  1.0624e+00,  9.3605e-01,  ...,  5.1423e-01,\n",
       "          -1.0421e+00,  5.4778e-01]],\n",
       "\n",
       "        [[ 7.3132e-02,  2.4147e-01,  8.8585e-02,  ...,  3.6531e-01,\n",
       "          -1.0362e-01,  1.2863e-01],\n",
       "         [ 1.9167e-02,  1.1488e-01,  1.0162e-02,  ...,  1.4670e-01,\n",
       "          -4.2134e-02,  5.0622e-02],\n",
       "         [-1.7108e-02,  1.5933e-01, -8.5592e-02,  ...,  1.0312e-01,\n",
       "          -3.3444e-02,  2.6616e-02],\n",
       "         ...,\n",
       "         [ 6.6514e-02,  8.6576e-01, -1.1454e+00,  ..., -3.7191e-01,\n",
       "           1.0466e+00, -6.3181e-01],\n",
       "         [ 1.0305e+00,  5.8341e-01,  1.2091e+00,  ...,  1.1207e+00,\n",
       "           1.2599e+00,  1.0253e+00],\n",
       "         [ 2.3498e+00,  3.3819e-01,  1.4182e+00,  ...,  1.3498e-01,\n",
       "           1.0327e+00,  1.5412e+00]]], grad_fn=<UnsafeViewBackward0>)"
      ]
     },
     "execution_count": 31,
     "metadata": {},
     "output_type": "execute_result"
    }
   ],
   "source": [
    "out"
   ]
  },
  {
   "cell_type": "code",
   "execution_count": null,
   "metadata": {},
   "outputs": [],
   "source": []
  }
 ],
 "metadata": {
  "kernelspec": {
   "display_name": "Python 3.11.8 ('ct')",
   "language": "python",
   "name": "python3"
  },
  "language_info": {
   "codemirror_mode": {
    "name": "ipython",
    "version": 3
   },
   "file_extension": ".py",
   "mimetype": "text/x-python",
   "name": "python",
   "nbconvert_exporter": "python",
   "pygments_lexer": "ipython3",
   "version": "3.11.8"
  },
  "orig_nbformat": 4,
  "vscode": {
   "interpreter": {
    "hash": "58a760885fd47fdf395eaef92eec12c8b4333f527f9d0e1f73732f0063b09345"
   }
  }
 },
 "nbformat": 4,
 "nbformat_minor": 2
}
